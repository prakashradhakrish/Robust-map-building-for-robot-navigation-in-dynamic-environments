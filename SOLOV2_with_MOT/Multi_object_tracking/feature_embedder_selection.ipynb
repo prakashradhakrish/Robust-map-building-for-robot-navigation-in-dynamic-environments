{
 "cells": [
  {
   "cell_type": "code",
   "execution_count": 2,
   "metadata": {},
   "outputs": [],
   "source": [
    "import torch\n",
    "import torchvision.models as models\n",
    "import torch.autograd.profiler as profiler\n",
    "import time"
   ]
  },
  {
   "cell_type": "code",
   "execution_count": null,
   "metadata": {},
   "outputs": [],
   "source": [
    "from torch.profiler import profile, record_function, ProfilerActivity"
   ]
  },
  {
   "cell_type": "code",
   "execution_count": 3,
   "metadata": {},
   "outputs": [
    {
     "name": "stdout",
     "output_type": "stream",
     "text": [
      "1.7.1+cu110\n"
     ]
    }
   ],
   "source": [
    "print(torch.__version__)"
   ]
  },
  {
   "cell_type": "code",
   "execution_count": null,
   "metadata": {},
   "outputs": [],
   "source": [
    "resnet18 = models.resnet18(pretrained=True)\n",
    "alexnet = models.alexnet(pretrained=True)\n",
    "squeezenet = models.squeezenet1_0(pretrained=True)\n",
    "vgg16 = models.vgg16(pretrained=True)\n",
    "densenet = models.densenet161(pretrained=True)\n",
    "inception = models.inception_v3(pretrained=True)\n",
    "googlenet = models.googlenet(pretrained=True)\n",
    "shufflenet = models.shufflenet_v2_x1_0(pretrained=True)\n",
    "mobilenet_v2 = models.mobilenet_v2(pretrained=True)\n",
    "mobilenet_v3_large = models.mobilenet_v3_large(pretrained=True)\n",
    "mobilenet_v3_small = models.mobilenet_v3_small(pretrained=True)\n",
    "resnext50_32x4d = models.resnext50_32x4d(pretrained=True)\n",
    "wide_resnet50_2 = models.wide_resnet50_2(pretrained=True)\n",
    "mnasnet = models.mnasnet1_0(pretrained=True)"
   ]
  },
  {
   "cell_type": "code",
   "execution_count": 21,
   "metadata": {},
   "outputs": [
    {
     "name": "stdout",
     "output_type": "stream",
     "text": [
      "--- 0.17368412017822266 seconds ---\n"
     ]
    }
   ],
   "source": [
    "model = models.vgg16(pretrained=True)\n",
    "\n",
    "inputs = torch.randn(1, 3, 224, 224)\n",
    "\n",
    "start_time = time.time()\n",
    "output = model(inputs)\n",
    "print(\"--- %s seconds ---\" % (time.time() - start_time))"
   ]
  },
  {
   "cell_type": "code",
   "execution_count": 20,
   "metadata": {},
   "outputs": [
    {
     "name": "stdout",
     "output_type": "stream",
     "text": [
      "--- 0.060103416442871094 seconds ---\n"
     ]
    }
   ],
   "source": [
    "model = models.mobilenet_v2(pretrained=True)\n",
    "\n",
    "inputs = torch.randn(1, 3, 224, 224)\n",
    "\n",
    "start_time = time.time()\n",
    "output = model(inputs)\n",
    "print(\"--- %s seconds ---\" % (time.time() - start_time))"
   ]
  },
  {
   "cell_type": "code",
   "execution_count": 27,
   "metadata": {},
   "outputs": [
    {
     "name": "stdout",
     "output_type": "stream",
     "text": [
      "--- 0.052017927169799805 seconds ---\n"
     ]
    }
   ],
   "source": [
    "model = models.resnet18(pretrained=True)\n",
    "\n",
    "inputs = torch.randn(1, 3, 224, 224)\n",
    "\n",
    "start_time = time.time()\n",
    "output = model(inputs)\n",
    "print(\"--- %s seconds ---\" % (time.time() - start_time))"
   ]
  },
  {
   "cell_type": "code",
   "execution_count": 37,
   "metadata": {},
   "outputs": [
    {
     "name": "stdout",
     "output_type": "stream",
     "text": [
      "--- 0.033532142639160156 seconds ---\n"
     ]
    }
   ],
   "source": [
    "model = models.alexnet(pretrained=True)\n",
    "\n",
    "inputs = torch.randn(1, 3, 224, 224)\n",
    "\n",
    "start_time = time.time()\n",
    "output = model(inputs)\n",
    "print(\"--- %s seconds ---\" % (time.time() - start_time))"
   ]
  },
  {
   "cell_type": "code",
   "execution_count": 43,
   "metadata": {},
   "outputs": [
    {
     "name": "stdout",
     "output_type": "stream",
     "text": [
      "--- 0.03867030143737793 seconds ---\n"
     ]
    }
   ],
   "source": [
    "model = models.squeezenet1_0(pretrained=True)\n",
    "\n",
    "inputs = torch.randn(1, 3, 224, 224)\n",
    "\n",
    "start_time = time.time()\n",
    "output = model(inputs)\n",
    "print(\"--- %s seconds ---\" % (time.time() - start_time))"
   ]
  },
  {
   "cell_type": "code",
   "execution_count": 49,
   "metadata": {},
   "outputs": [
    {
     "name": "stdout",
     "output_type": "stream",
     "text": [
      "--- 0.34490084648132324 seconds ---\n"
     ]
    }
   ],
   "source": [
    "model = models.densenet161(pretrained=True)\n",
    "\n",
    "inputs = torch.randn(1, 3, 224, 224)\n",
    "\n",
    "start_time = time.time()\n",
    "output = model(inputs)\n",
    "print(\"--- %s seconds ---\" % (time.time() - start_time))"
   ]
  },
  {
   "cell_type": "code",
   "execution_count": 16,
   "metadata": {},
   "outputs": [
    {
     "name": "stdout",
     "output_type": "stream",
     "text": [
      "---------------------------------  ------------  ------------  ------------  ------------  ------------  ------------  ------------  ------------  ------------  ------------  ---------------------------------------------------------------------------  \n",
      "                             Name    Self CPU %      Self CPU   CPU total %     CPU total  CPU time avg       CPU Mem  Self CPU Mem      CUDA Mem  Self CUDA Mem    # of Calls  Source Location                                                              \n",
      "---------------------------------  ------------  ------------  ------------  ------------  ------------  ------------  ------------  ------------  ------------  ------------  ---------------------------------------------------------------------------  \n",
      "         aten::mkldnn_convolution        59.17%     121.892ms        60.63%     124.893ms       9.607ms      51.68 Mb           0 b           0 b           0 b            13  /home/prakash/anaconda3/envs/dl/lib/python3.6/site-packages/torch/nn/module  \n",
      "                                                                                                                                                                               /home/prakash/anaconda3/envs/dl/lib/python3.6/site-packages/torch/nn/module  \n",
      "                                                                                                                                                                               /home/prakash/anaconda3/envs/dl/lib/python3.6/site-packages/torch/nn/module  \n",
      "                                                                                                                                                                               /home/prakash/anaconda3/envs/dl/lib/python3.6/site-packages/torch/nn/module  \n",
      "                                                                                                                                                                               /home/prakash/anaconda3/envs/dl/lib/python3.6/site-packages/torch/nn/module  \n",
      "                                                                                                                                                                                                                                                            \n",
      "                      aten::addmm        16.20%      33.366ms        16.63%      34.256ms      11.419ms      35.91 Kb      35.91 Kb           0 b           0 b             3  /home/prakash/anaconda3/envs/dl/lib/python3.6/site-packages/torch/nn/functi  \n",
      "                                                                                                                                                                               /home/prakash/anaconda3/envs/dl/lib/python3.6/site-packages/torch/nn/module  \n",
      "                                                                                                                                                                               /home/prakash/anaconda3/envs/dl/lib/python3.6/site-packages/torch/nn/module  \n",
      "                                                                                                                                                                               /home/prakash/anaconda3/envs/dl/lib/python3.6/site-packages/torch/nn/module  \n",
      "                                                                                                                                                                               /home/prakash/anaconda3/envs/dl/lib/python3.6/site-packages/torch/nn/module  \n",
      "                                                                                                                                                                                                                                                            \n",
      "    aten::max_pool2d_with_indices        13.73%      28.290ms        14.51%      29.890ms       5.978ms      17.51 Mb           0 b           0 b           0 b             5  /home/prakash/anaconda3/envs/dl/lib/python3.6/site-packages/torch/nn/functi  \n",
      "                                                                                                                                                                               /home/prakash/anaconda3/envs/dl/lib/python3.6/site-packages/torch/_jit_inte  \n",
      "                                                                                                                                                                               /home/prakash/anaconda3/envs/dl/lib/python3.6/site-packages/torch/nn/module  \n",
      "                                                                                                                                                                               /home/prakash/anaconda3/envs/dl/lib/python3.6/site-packages/torch/nn/module  \n",
      "                                                                                                                                                                               /home/prakash/anaconda3/envs/dl/lib/python3.6/site-packages/torch/nn/module  \n",
      "                                                                                                                                                                                                                                                            \n",
      "                 aten::threshold_         2.76%       5.687ms         2.76%       5.687ms     379.115us           0 b           0 b           0 b           0 b            15  /home/prakash/anaconda3/envs/dl/lib/python3.6/site-packages/torch/nn/functi  \n",
      "                                                                                                                                                                               /home/prakash/anaconda3/envs/dl/lib/python3.6/site-packages/torch/nn/module  \n",
      "                                                                                                                                                                               /home/prakash/anaconda3/envs/dl/lib/python3.6/site-packages/torch/nn/module  \n",
      "                                                                                                                                                                               /home/prakash/anaconda3/envs/dl/lib/python3.6/site-packages/torch/nn/module  \n",
      "                                                                                                                                                                               /home/prakash/anaconda3/envs/dl/lib/python3.6/site-packages/torch/nn/module  \n",
      "                                                                                                                                                                                                                                                            \n",
      "                      aten::relu_         1.17%       2.412ms         3.93%       8.098ms     539.896us           0 b           0 b           0 b           0 b            15  /home/prakash/anaconda3/envs/dl/lib/python3.6/site-packages/torch/nn/functi  \n",
      "                                                                                                                                                                               /home/prakash/anaconda3/envs/dl/lib/python3.6/site-packages/torch/nn/module  \n",
      "                                                                                                                                                                               /home/prakash/anaconda3/envs/dl/lib/python3.6/site-packages/torch/nn/module  \n",
      "                                                                                                                                                                               /home/prakash/anaconda3/envs/dl/lib/python3.6/site-packages/torch/nn/module  \n",
      "                                                                                                                                                                               /home/prakash/anaconda3/envs/dl/lib/python3.6/site-packages/torch/nn/module  \n",
      "                                                                                                                                                                                                                                                            \n",
      "                 aten::contiguous         1.04%       2.137ms         1.04%       2.137ms      54.782us           0 b           0 b           0 b           0 b            39  /home/prakash/anaconda3/envs/dl/lib/python3.6/site-packages/torch/nn/module  \n",
      "                                                                                                                                                                               /home/prakash/anaconda3/envs/dl/lib/python3.6/site-packages/torch/nn/module  \n",
      "                                                                                                                                                                               /home/prakash/anaconda3/envs/dl/lib/python3.6/site-packages/torch/nn/module  \n",
      "                                                                                                                                                                               /home/prakash/anaconda3/envs/dl/lib/python3.6/site-packages/torch/nn/module  \n",
      "                                                                                                                                                                               /home/prakash/anaconda3/envs/dl/lib/python3.6/site-packages/torch/nn/module  \n",
      "                                                                                                                                                                                                                                                            \n",
      "                      aten::empty         0.90%       1.862ms         0.90%       1.862ms     143.267us      51.68 Mb      51.68 Mb           0 b           0 b            13  /home/prakash/anaconda3/envs/dl/lib/python3.6/site-packages/torch/nn/module  \n",
      "                                                                                                                                                                               /home/prakash/anaconda3/envs/dl/lib/python3.6/site-packages/torch/nn/module  \n",
      "                                                                                                                                                                               /home/prakash/anaconda3/envs/dl/lib/python3.6/site-packages/torch/nn/module  \n",
      "                                                                                                                                                                               /home/prakash/anaconda3/envs/dl/lib/python3.6/site-packages/torch/nn/module  \n",
      "                                                                                                                                                                               /home/prakash/anaconda3/envs/dl/lib/python3.6/site-packages/torch/nn/module  \n",
      "                                                                                                                                                                                                                                                            \n",
      "                aten::as_strided_         0.55%       1.139ms         0.55%       1.139ms      87.624us           0 b           0 b           0 b           0 b            13  /home/prakash/anaconda3/envs/dl/lib/python3.6/site-packages/torch/nn/module  \n",
      "                                                                                                                                                                               /home/prakash/anaconda3/envs/dl/lib/python3.6/site-packages/torch/nn/module  \n",
      "                                                                                                                                                                               /home/prakash/anaconda3/envs/dl/lib/python3.6/site-packages/torch/nn/module  \n",
      "                                                                                                                                                                               /home/prakash/anaconda3/envs/dl/lib/python3.6/site-packages/torch/nn/module  \n",
      "                                                                                                                                                                               /home/prakash/anaconda3/envs/dl/lib/python3.6/site-packages/torch/nn/module  \n",
      "                                                                                                                                                                                                                                                            \n",
      "                     aten::conv2d         0.51%       1.045ms        63.01%     129.792ms       9.984ms      51.68 Mb           0 b           0 b           0 b            13  /home/prakash/anaconda3/envs/dl/lib/python3.6/site-packages/torch/nn/module  \n",
      "                                                                                                                                                                               /home/prakash/anaconda3/envs/dl/lib/python3.6/site-packages/torch/nn/module  \n",
      "                                                                                                                                                                               /home/prakash/anaconda3/envs/dl/lib/python3.6/site-packages/torch/nn/module  \n",
      "                                                                                                                                                                               /home/prakash/anaconda3/envs/dl/lib/python3.6/site-packages/torch/nn/module  \n",
      "                                                                                                                                                                               /home/prakash/anaconda3/envs/dl/lib/python3.6/site-packages/torch/nn/module  \n",
      "                                                                                                                                                                                                                                                            \n",
      "               aten::_convolution         0.44%     909.685us        62.11%     127.939ms       9.841ms      51.68 Mb           0 b           0 b           0 b            13  /home/prakash/anaconda3/envs/dl/lib/python3.6/site-packages/torch/nn/module  \n",
      "                                                                                                                                                                               /home/prakash/anaconda3/envs/dl/lib/python3.6/site-packages/torch/nn/module  \n",
      "                                                                                                                                                                               /home/prakash/anaconda3/envs/dl/lib/python3.6/site-packages/torch/nn/module  \n",
      "                                                                                                                                                                               /home/prakash/anaconda3/envs/dl/lib/python3.6/site-packages/torch/nn/module  \n",
      "                                                                                                                                                                               /home/prakash/anaconda3/envs/dl/lib/python3.6/site-packages/torch/nn/module  \n",
      "                                                                                                                                                                                                                                                            \n",
      "                aten::convolution         0.39%     807.829us        62.50%     128.747ms       9.904ms      51.68 Mb           0 b           0 b           0 b            13  /home/prakash/anaconda3/envs/dl/lib/python3.6/site-packages/torch/nn/module  \n",
      "                                                                                                                                                                               /home/prakash/anaconda3/envs/dl/lib/python3.6/site-packages/torch/nn/module  \n",
      "                                                                                                                                                                               /home/prakash/anaconda3/envs/dl/lib/python3.6/site-packages/torch/nn/module  \n",
      "                                                                                                                                                                               /home/prakash/anaconda3/envs/dl/lib/python3.6/site-packages/torch/nn/module  \n",
      "                                                                                                                                                                               /home/prakash/anaconda3/envs/dl/lib/python3.6/site-packages/torch/nn/module  \n",
      "                                                                                                                                                                                                                                                            \n",
      "                    aten::resize_         0.32%     667.396us         0.32%     667.396us      66.740us      17.51 Mb      17.51 Mb           0 b           0 b            10  /home/prakash/anaconda3/envs/dl/lib/python3.6/site-packages/torch/nn/functi  \n",
      "                                                                                                                                                                               /home/prakash/anaconda3/envs/dl/lib/python3.6/site-packages/torch/_jit_inte  \n",
      "                                                                                                                                                                               /home/prakash/anaconda3/envs/dl/lib/python3.6/site-packages/torch/nn/module  \n",
      "                                                                                                                                                                               /home/prakash/anaconda3/envs/dl/lib/python3.6/site-packages/torch/nn/module  \n",
      "                                                                                                                                                                               /home/prakash/anaconda3/envs/dl/lib/python3.6/site-packages/torch/nn/module  \n",
      "                                                                                                                                                                                                                                                            \n",
      "                      aten::empty         0.31%     638.166us         0.31%     638.166us      63.817us           0 b           0 b           0 b           0 b            10  /home/prakash/anaconda3/envs/dl/lib/python3.6/site-packages/torch/nn/functi  \n",
      "                                                                                                                                                                               /home/prakash/anaconda3/envs/dl/lib/python3.6/site-packages/torch/_jit_inte  \n",
      "                                                                                                                                                                               /home/prakash/anaconda3/envs/dl/lib/python3.6/site-packages/torch/nn/module  \n",
      "                                                                                                                                                                               /home/prakash/anaconda3/envs/dl/lib/python3.6/site-packages/torch/nn/module  \n",
      "                                                                                                                                                                               /home/prakash/anaconda3/envs/dl/lib/python3.6/site-packages/torch/nn/module  \n",
      "                                                                                                                                                                                                                                                            \n",
      "                      aten::empty         0.22%     456.645us         0.22%     456.645us      76.108us      96.00 Kb      96.00 Kb           0 b           0 b             6  /home/prakash/anaconda3/envs/dl/lib/python3.6/site-packages/torch/nn/functi  \n",
      "                                                                                                                                                                               /home/prakash/anaconda3/envs/dl/lib/python3.6/site-packages/torch/nn/module  \n",
      "                                                                                                                                                                               /home/prakash/anaconda3/envs/dl/lib/python3.6/site-packages/torch/nn/module  \n",
      "                                                                                                                                                                               /home/prakash/anaconda3/envs/dl/lib/python3.6/site-packages/torch/nn/module  \n",
      "                                                                                                                                                                               /home/prakash/anaconda3/envs/dl/lib/python3.6/site-packages/torch/nn/module  \n",
      "                                                                                                                                                                                                                                                            \n",
      "                          aten::t         0.22%     451.351us         0.39%     811.128us     270.376us           0 b           0 b           0 b           0 b             3  /home/prakash/anaconda3/envs/dl/lib/python3.6/site-packages/torch/nn/functi  \n",
      "                                                                                                                                                                               /home/prakash/anaconda3/envs/dl/lib/python3.6/site-packages/torch/nn/module  \n",
      "                                                                                                                                                                               /home/prakash/anaconda3/envs/dl/lib/python3.6/site-packages/torch/nn/module  \n",
      "                                                                                                                                                                               /home/prakash/anaconda3/envs/dl/lib/python3.6/site-packages/torch/nn/module  \n",
      "                                                                                                                                                                               /home/prakash/anaconda3/envs/dl/lib/python3.6/site-packages/torch/nn/module  \n",
      "                                                                                                                                                                                                                                                            \n",
      "                 aten::max_pool2d         0.21%     429.446us        14.72%      30.320ms       6.064ms      17.51 Mb           0 b           0 b           0 b             5  /home/prakash/anaconda3/envs/dl/lib/python3.6/site-packages/torch/nn/functi  \n",
      "                                                                                                                                                                               /home/prakash/anaconda3/envs/dl/lib/python3.6/site-packages/torch/_jit_inte  \n",
      "                                                                                                                                                                               /home/prakash/anaconda3/envs/dl/lib/python3.6/site-packages/torch/nn/module  \n",
      "                                                                                                                                                                               /home/prakash/anaconda3/envs/dl/lib/python3.6/site-packages/torch/nn/module  \n",
      "                                                                                                                                                                               /home/prakash/anaconda3/envs/dl/lib/python3.6/site-packages/torch/nn/module  \n",
      "                                                                                                                                                                                                                                                            \n",
      "                       aten::div_         0.21%     428.217us         0.63%       1.303ms     325.849us           0 b          -8 b           0 b           0 b             4  /home/prakash/anaconda3/envs/dl/lib/python3.6/site-packages/torch/nn/functi  \n",
      "                                                                                                                                                                               /home/prakash/anaconda3/envs/dl/lib/python3.6/site-packages/torch/nn/module  \n",
      "                                                                                                                                                                               /home/prakash/anaconda3/envs/dl/lib/python3.6/site-packages/torch/nn/module  \n",
      "                                                                                                                                                                               /home/prakash/anaconda3/envs/dl/lib/python3.6/site-packages/torch/nn/module  \n",
      "                                                                                                                                                                               /home/prakash/anaconda3/envs/dl/lib/python3.6/site-packages/torch/nn/module  \n",
      "                                                                                                                                                                                                                                                            \n",
      "                 aten::as_strided         0.17%     357.884us         0.17%     357.884us      59.647us           0 b           0 b           0 b           0 b             6  /home/prakash/anaconda3/envs/dl/lib/python3.6/site-packages/torch/nn/functi  \n",
      "                                                                                                                                                                               /home/prakash/anaconda3/envs/dl/lib/python3.6/site-packages/torch/nn/module  \n",
      "                                                                                                                                                                               /home/prakash/anaconda3/envs/dl/lib/python3.6/site-packages/torch/nn/module  \n",
      "                                                                                                                                                                               /home/prakash/anaconda3/envs/dl/lib/python3.6/site-packages/torch/nn/module  \n",
      "                                                                                                                                                                               /home/prakash/anaconda3/envs/dl/lib/python3.6/site-packages/torch/nn/module  \n",
      "                                                                                                                                                                                                                                                            \n",
      "                 aten::contiguous         0.14%     294.867us         0.14%     294.867us      58.973us           0 b           0 b           0 b           0 b             5  /home/prakash/anaconda3/envs/dl/lib/python3.6/site-packages/torch/nn/functi  \n",
      "                                                                                                                                                                               /home/prakash/anaconda3/envs/dl/lib/python3.6/site-packages/torch/_jit_inte  \n",
      "                                                                                                                                                                               /home/prakash/anaconda3/envs/dl/lib/python3.6/site-packages/torch/nn/module  \n",
      "                                                                                                                                                                               /home/prakash/anaconda3/envs/dl/lib/python3.6/site-packages/torch/nn/module  \n",
      "                                                                                                                                                                               /home/prakash/anaconda3/envs/dl/lib/python3.6/site-packages/torch/nn/module  \n",
      "                                                                                                                                                                                                                                                            \n",
      "                        aten::mul         0.13%     261.341us         0.18%     380.154us     190.077us      32.00 Kb           0 b           0 b           0 b             2  /home/prakash/anaconda3/envs/dl/lib/python3.6/site-packages/torch/nn/functi  \n",
      "                                                                                                                                                                               /home/prakash/anaconda3/envs/dl/lib/python3.6/site-packages/torch/nn/module  \n",
      "                                                                                                                                                                               /home/prakash/anaconda3/envs/dl/lib/python3.6/site-packages/torch/nn/module  \n",
      "                                                                                                                                                                               /home/prakash/anaconda3/envs/dl/lib/python3.6/site-packages/torch/nn/module  \n",
      "                                                                                                                                                                               /home/prakash/anaconda3/envs/dl/lib/python3.6/site-packages/torch/nn/module  \n",
      "                                                                                                                                                                                                                                                            \n",
      "                 aten::bernoulli_         0.12%     254.932us         0.18%     377.595us     188.798us           0 b     -32.00 Kb           0 b           0 b             2  /home/prakash/anaconda3/envs/dl/lib/python3.6/site-packages/torch/nn/functi  \n",
      "                                                                                                                                                                               /home/prakash/anaconda3/envs/dl/lib/python3.6/site-packages/torch/nn/module  \n",
      "                                                                                                                                                                               /home/prakash/anaconda3/envs/dl/lib/python3.6/site-packages/torch/nn/module  \n",
      "                                                                                                                                                                               /home/prakash/anaconda3/envs/dl/lib/python3.6/site-packages/torch/nn/module  \n",
      "                                                                                                                                                                               /home/prakash/anaconda3/envs/dl/lib/python3.6/site-packages/torch/nn/module  \n",
      "                                                                                                                                                                                                                                                            \n",
      "                      aten::copy_         0.10%     205.996us         0.18%     374.009us     124.670us           0 b           0 b           0 b           0 b             3  /home/prakash/anaconda3/envs/dl/lib/python3.6/site-packages/torch/nn/functi  \n",
      "                                                                                                                                                                               /home/prakash/anaconda3/envs/dl/lib/python3.6/site-packages/torch/nn/module  \n",
      "                                                                                                                                                                               /home/prakash/anaconda3/envs/dl/lib/python3.6/site-packages/torch/nn/module  \n",
      "                                                                                                                                                                               /home/prakash/anaconda3/envs/dl/lib/python3.6/site-packages/torch/nn/module  \n",
      "                                                                                                                                                                               /home/prakash/anaconda3/envs/dl/lib/python3.6/site-packages/torch/nn/module  \n",
      "                                                                                                                                                                                                                                                            \n",
      "                     aten::expand         0.09%     183.624us         0.17%     348.045us     116.015us           0 b           0 b           0 b           0 b             3  /home/prakash/anaconda3/envs/dl/lib/python3.6/site-packages/torch/nn/functi  \n",
      "                                                                                                                                                                               /home/prakash/anaconda3/envs/dl/lib/python3.6/site-packages/torch/nn/module  \n",
      "                                                                                                                                                                               /home/prakash/anaconda3/envs/dl/lib/python3.6/site-packages/torch/nn/module  \n",
      "                                                                                                                                                                               /home/prakash/anaconda3/envs/dl/lib/python3.6/site-packages/torch/nn/module  \n",
      "                                                                                                                                                                               /home/prakash/anaconda3/envs/dl/lib/python3.6/site-packages/torch/nn/module  \n",
      "                                                                                                                                                                                                                                                            \n",
      "       aten::_adaptive_avg_pool2d         0.09%     178.676us         0.21%     436.102us     436.102us      98.00 Kb           0 b           0 b           0 b             1  /home/prakash/anaconda3/envs/dl/lib/python3.6/site-packages/torch/nn/functi  \n",
      "                                                                                                                                                                               /home/prakash/anaconda3/envs/dl/lib/python3.6/site-packages/torch/nn/module  \n",
      "                                                                                                                                                                               /home/prakash/anaconda3/envs/dl/lib/python3.6/site-packages/torch/nn/module  \n",
      "                                                                                                                                                                               /home/prakash/anaconda3/envs/dl/lib/python3.6/site-packages/torchvision/mod  \n",
      "                                                                                                                                                                               /home/prakash/anaconda3/envs/dl/lib/python3.6/site-packages/torch/nn/module  \n",
      "                                                                                                                                                                                                                                                            \n",
      "                     aten::stride         0.08%     168.013us         0.08%     168.013us      56.004us           0 b           0 b           0 b           0 b             3  /home/prakash/anaconda3/envs/dl/lib/python3.6/site-packages/torch/nn/functi  \n",
      "                                                                                                                                                                               /home/prakash/anaconda3/envs/dl/lib/python3.6/site-packages/torch/nn/module  \n",
      "                                                                                                                                                                               /home/prakash/anaconda3/envs/dl/lib/python3.6/site-packages/torch/nn/module  \n",
      "                                                                                                                                                                               /home/prakash/anaconda3/envs/dl/lib/python3.6/site-packages/torch/nn/module  \n",
      "                                                                                                                                                                               /home/prakash/anaconda3/envs/dl/lib/python3.6/site-packages/torch/nn/module  \n",
      "                                                                                                                                                                                                                                                            \n",
      "                      aten::empty         0.08%     167.483us         0.08%     167.483us      55.828us           0 b           0 b           0 b           0 b             3  /home/prakash/anaconda3/envs/dl/lib/python3.6/site-packages/torch/nn/functi  \n",
      "                                                                                                                                                                               /home/prakash/anaconda3/envs/dl/lib/python3.6/site-packages/torch/nn/module  \n",
      "                                                                                                                                                                               /home/prakash/anaconda3/envs/dl/lib/python3.6/site-packages/torch/nn/module  \n",
      "                                                                                                                                                                               /home/prakash/anaconda3/envs/dl/lib/python3.6/site-packages/torch/nn/module  \n",
      "                                                                                                                                                                               /home/prakash/anaconda3/envs/dl/lib/python3.6/site-packages/torch/nn/module  \n",
      "                                                                                                                                                                                                                                                            \n",
      "                  aten::transpose         0.08%     166.314us         0.17%     359.777us     119.926us           0 b           0 b           0 b           0 b             3  /home/prakash/anaconda3/envs/dl/lib/python3.6/site-packages/torch/nn/functi  \n",
      "                                                                                                                                                                               /home/prakash/anaconda3/envs/dl/lib/python3.6/site-packages/torch/nn/module  \n",
      "                                                                                                                                                                               /home/prakash/anaconda3/envs/dl/lib/python3.6/site-packages/torch/nn/module  \n",
      "                                                                                                                                                                               /home/prakash/anaconda3/envs/dl/lib/python3.6/site-packages/torch/nn/module  \n",
      "                                                                                                                                                                               /home/prakash/anaconda3/envs/dl/lib/python3.6/site-packages/torch/nn/module  \n",
      "                                                                                                                                                                                                                                                            \n",
      "                     aten::stride         0.07%     150.480us         0.07%     150.480us      50.160us           0 b           0 b           0 b           0 b             3  /home/prakash/anaconda3/envs/dl/lib/python3.6/site-packages/torch/nn/functi  \n",
      "                                                                                                                                                                               /home/prakash/anaconda3/envs/dl/lib/python3.6/site-packages/torch/nn/module  \n",
      "                                                                                                                                                                               /home/prakash/anaconda3/envs/dl/lib/python3.6/site-packages/torch/nn/module  \n",
      "                                                                                                                                                                               /home/prakash/anaconda3/envs/dl/lib/python3.6/site-packages/torchvision/mod  \n",
      "                                                                                                                                                                               /home/prakash/anaconda3/envs/dl/lib/python3.6/site-packages/torch/nn/module  \n",
      "                                                                                                                                                                                                                                                            \n",
      "                    aten::dropout         0.07%     140.058us         0.98%       2.018ms       1.009ms      64.00 Kb           0 b           0 b           0 b             2  /home/prakash/anaconda3/envs/dl/lib/python3.6/site-packages/torch/nn/functi  \n",
      "                                                                                                                                                                               /home/prakash/anaconda3/envs/dl/lib/python3.6/site-packages/torch/nn/module  \n",
      "                                                                                                                                                                               /home/prakash/anaconda3/envs/dl/lib/python3.6/site-packages/torch/nn/module  \n",
      "                                                                                                                                                                               /home/prakash/anaconda3/envs/dl/lib/python3.6/site-packages/torch/nn/module  \n",
      "                                                                                                                                                                               /home/prakash/anaconda3/envs/dl/lib/python3.6/site-packages/torch/nn/module  \n",
      "                                                                                                                                                                                                                                                            \n",
      "                      aten::copy_         0.06%     125.722us         0.06%     125.722us      62.861us           0 b           0 b           0 b           0 b             2  /home/prakash/anaconda3/envs/dl/lib/python3.6/site-packages/torch/nn/functi  \n",
      "                                                                                                                                                                               /home/prakash/anaconda3/envs/dl/lib/python3.6/site-packages/torch/nn/module  \n",
      "                                                                                                                                                                               /home/prakash/anaconda3/envs/dl/lib/python3.6/site-packages/torch/nn/module  \n",
      "                                                                                                                                                                               /home/prakash/anaconda3/envs/dl/lib/python3.6/site-packages/torch/nn/module  \n",
      "                                                                                                                                                                               /home/prakash/anaconda3/envs/dl/lib/python3.6/site-packages/torch/nn/module  \n",
      "                                                                                                                                                                                                                                                            \n",
      "                         aten::to         0.06%     123.134us         0.18%     368.245us     184.122us           8 b           0 b           0 b           0 b             2  /home/prakash/anaconda3/envs/dl/lib/python3.6/site-packages/torch/nn/functi  \n",
      "                                                                                                                                                                               /home/prakash/anaconda3/envs/dl/lib/python3.6/site-packages/torch/nn/module  \n",
      "                                                                                                                                                                               /home/prakash/anaconda3/envs/dl/lib/python3.6/site-packages/torch/nn/module  \n",
      "                                                                                                                                                                               /home/prakash/anaconda3/envs/dl/lib/python3.6/site-packages/torch/nn/module  \n",
      "                                                                                                                                                                               /home/prakash/anaconda3/envs/dl/lib/python3.6/site-packages/torch/nn/module  \n",
      "                                                                                                                                                                                                                                                            \n",
      "              aten::empty_strided         0.06%     119.389us         0.06%     119.389us      59.694us           8 b           8 b           0 b           0 b             2  /home/prakash/anaconda3/envs/dl/lib/python3.6/site-packages/torch/nn/functi  \n",
      "                                                                                                                                                                               /home/prakash/anaconda3/envs/dl/lib/python3.6/site-packages/torch/nn/module  \n",
      "                                                                                                                                                                               /home/prakash/anaconda3/envs/dl/lib/python3.6/site-packages/torch/nn/module  \n",
      "                                                                                                                                                                               /home/prakash/anaconda3/envs/dl/lib/python3.6/site-packages/torch/nn/module  \n",
      "                                                                                                                                                                               /home/prakash/anaconda3/envs/dl/lib/python3.6/site-packages/torch/nn/module  \n",
      "                                                                                                                                                                                                                                                            \n",
      "                 aten::empty_like         0.05%     109.005us         0.16%     324.174us     162.087us      32.00 Kb           0 b           0 b           0 b             2  /home/prakash/anaconda3/envs/dl/lib/python3.6/site-packages/torch/nn/functi  \n",
      "                                                                                                                                                                               /home/prakash/anaconda3/envs/dl/lib/python3.6/site-packages/torch/nn/module  \n",
      "                                                                                                                                                                               /home/prakash/anaconda3/envs/dl/lib/python3.6/site-packages/torch/nn/module  \n",
      "                                                                                                                                                                               /home/prakash/anaconda3/envs/dl/lib/python3.6/site-packages/torch/nn/module  \n",
      "                                                                                                                                                                               /home/prakash/anaconda3/envs/dl/lib/python3.6/site-packages/torch/nn/module  \n",
      "                                                                                                                                                                                                                                                            \n",
      "                       aten::view         0.05%     100.693us         0.05%     100.693us     100.693us           0 b           0 b           0 b           0 b             1  /home/prakash/anaconda3/envs/dl/lib/python3.6/site-packages/torchvision/mod  \n",
      "                                                                                                                                                                               /home/prakash/anaconda3/envs/dl/lib/python3.6/site-packages/torch/nn/module  \n",
      "                                                                                                                                                                               <ipython-input-16-49ee8e3aadbc>(6): <module>                                 \n",
      "                                                                                                                                                                               /home/prakash/anaconda3/envs/dl/lib/python3.6/site-packages/IPython/core/in  \n",
      "                                                                                                                                                                               /home/prakash/anaconda3/envs/dl/lib/python3.6/site-packages/IPython/core/in  \n",
      "                                                                                                                                                                                                                                                            \n",
      "        aten::adaptive_avg_pool2d         0.03%      64.140us         0.24%     500.242us     500.242us      98.00 Kb           0 b           0 b           0 b             1  /home/prakash/anaconda3/envs/dl/lib/python3.6/site-packages/torch/nn/functi  \n",
      "                                                                                                                                                                               /home/prakash/anaconda3/envs/dl/lib/python3.6/site-packages/torch/nn/module  \n",
      "                                                                                                                                                                               /home/prakash/anaconda3/envs/dl/lib/python3.6/site-packages/torch/nn/module  \n",
      "                                                                                                                                                                               /home/prakash/anaconda3/envs/dl/lib/python3.6/site-packages/torchvision/mod  \n",
      "                                                                                                                                                                               /home/prakash/anaconda3/envs/dl/lib/python3.6/site-packages/torch/nn/module  \n",
      "                                                                                                                                                                                                                                                            \n",
      "                    aten::resize_         0.03%      55.175us         0.03%      55.175us      55.175us      98.00 Kb      98.00 Kb           0 b           0 b             1  /home/prakash/anaconda3/envs/dl/lib/python3.6/site-packages/torch/nn/functi  \n",
      "                                                                                                                                                                               /home/prakash/anaconda3/envs/dl/lib/python3.6/site-packages/torch/nn/module  \n",
      "                                                                                                                                                                               /home/prakash/anaconda3/envs/dl/lib/python3.6/site-packages/torch/nn/module  \n",
      "                                                                                                                                                                               /home/prakash/anaconda3/envs/dl/lib/python3.6/site-packages/torchvision/mod  \n",
      "                                                                                                                                                                               /home/prakash/anaconda3/envs/dl/lib/python3.6/site-packages/torch/nn/module  \n",
      "                                                                                                                                                                                                                                                            \n",
      "                    aten::flatten         0.03%      52.007us         0.10%     201.977us     201.977us           0 b           0 b           0 b           0 b             1  /home/prakash/anaconda3/envs/dl/lib/python3.6/site-packages/torchvision/mod  \n",
      "                                                                                                                                                                               /home/prakash/anaconda3/envs/dl/lib/python3.6/site-packages/torch/nn/module  \n",
      "                                                                                                                                                                               <ipython-input-16-49ee8e3aadbc>(6): <module>                                 \n",
      "                                                                                                                                                                               /home/prakash/anaconda3/envs/dl/lib/python3.6/site-packages/IPython/core/in  \n",
      "                                                                                                                                                                               /home/prakash/anaconda3/envs/dl/lib/python3.6/site-packages/IPython/core/in  \n",
      "                                                                                                                                                                                                                                                            \n",
      "                      aten::empty         0.03%      51.771us         0.03%      51.771us      51.771us           0 b           0 b           0 b           0 b             1  /home/prakash/anaconda3/envs/dl/lib/python3.6/site-packages/torch/nn/functi  \n",
      "                                                                                                                                                                               /home/prakash/anaconda3/envs/dl/lib/python3.6/site-packages/torch/nn/module  \n",
      "                                                                                                                                                                               /home/prakash/anaconda3/envs/dl/lib/python3.6/site-packages/torch/nn/module  \n",
      "                                                                                                                                                                               /home/prakash/anaconda3/envs/dl/lib/python3.6/site-packages/torchvision/mod  \n",
      "                                                                                                                                                                               /home/prakash/anaconda3/envs/dl/lib/python3.6/site-packages/torch/nn/module  \n",
      "                                                                                                                                                                                                                                                            \n",
      "                    aten::reshape         0.02%      49.277us         0.07%     149.970us     149.970us           0 b           0 b           0 b           0 b             1  /home/prakash/anaconda3/envs/dl/lib/python3.6/site-packages/torchvision/mod  \n",
      "                                                                                                                                                                               /home/prakash/anaconda3/envs/dl/lib/python3.6/site-packages/torch/nn/module  \n",
      "                                                                                                                                                                               <ipython-input-16-49ee8e3aadbc>(6): <module>                                 \n",
      "                                                                                                                                                                               /home/prakash/anaconda3/envs/dl/lib/python3.6/site-packages/IPython/core/in  \n",
      "                                                                                                                                                                               /home/prakash/anaconda3/envs/dl/lib/python3.6/site-packages/IPython/core/in  \n",
      "                                                                                                                                                                                                                                                            \n",
      "---------------------------------  ------------  ------------  ------------  ------------  ------------  ------------  ------------  ------------  ------------  ------------  ---------------------------------------------------------------------------  \n",
      "Self CPU time total: 205.997ms\n",
      "\n"
     ]
    }
   ],
   "source": [
    "model = models.vgg16(pretrained=True)\n",
    "\n",
    "inputs = torch.randn(1, 3, 224, 224)\n",
    "\n",
    "with profiler.profile(with_stack=True, profile_memory=True) as prof:\n",
    "    out = model(inputs)\n",
    "\n",
    "print(prof.key_averages(group_by_stack_n=5).table(sort_by='self_cpu_time_total'))"
   ]
  },
  {
   "cell_type": "code",
   "execution_count": null,
   "metadata": {},
   "outputs": [],
   "source": [
    "\n",
    "start_time = time.time()\n",
    "main()\n",
    "print(\"--- %s seconds ---\" % (time.time() - start_time))"
   ]
  }
 ],
 "metadata": {
  "kernelspec": {
   "display_name": "Python 3",
   "language": "python",
   "name": "python3"
  },
  "language_info": {
   "codemirror_mode": {
    "name": "ipython",
    "version": 3
   },
   "file_extension": ".py",
   "mimetype": "text/x-python",
   "name": "python",
   "nbconvert_exporter": "python",
   "pygments_lexer": "ipython3",
   "version": "3.6.12"
  }
 },
 "nbformat": 4,
 "nbformat_minor": 4
}
