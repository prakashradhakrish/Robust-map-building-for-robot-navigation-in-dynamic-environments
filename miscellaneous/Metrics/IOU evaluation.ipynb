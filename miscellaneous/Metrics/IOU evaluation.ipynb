{
 "cells": [
  {
   "cell_type": "markdown",
   "metadata": {},
   "source": [
    "## IOU calculation for Moving object segmentation\n",
    "#### Author: Prakash Radhakrishnan"
   ]
  },
  {
   "cell_type": "code",
   "execution_count": 50,
   "metadata": {},
   "outputs": [],
   "source": [
    "import cv2\n",
    "import matplotlib.pyplot as plt\n",
    "import numpy as np\n",
    "import glob\n",
    "from torchvision import transforms\n",
    "from PIL import Image\n",
    "import os"
   ]
  },
  {
   "cell_type": "code",
   "execution_count": 36,
   "metadata": {},
   "outputs": [],
   "source": [
    "def order_image_files(directory):\n",
    "    os.chdir(directory)\n",
    "    images_directory = glob.glob(\"*.png\") # user input of corresponding file\n",
    "    images_directory.sort()\n",
    "    return images_directory"
   ]
  },
  {
   "cell_type": "code",
   "execution_count": 37,
   "metadata": {},
   "outputs": [],
   "source": [
    "def iou(pred, target, smooth=1.):\n",
    "    pred = pred.contiguous()\n",
    "    target = target.contiguous()    \n",
    "\n",
    "    intersection = (pred * target).sum(dim=2).sum(dim=2)\n",
    "    union = pred.sum(dim=2).sum(dim=2) + target.sum(dim=2).sum(dim=2) \n",
    "    #print(intersection,union)\n",
    "   \n",
    "    loss = ((intersection + smooth) / (pred.sum(dim=2).sum(dim=2) + target.sum(dim=2).sum(dim=2) - intersection + smooth))\n",
    "    \n",
    "    return loss.mean()"
   ]
  },
  {
   "cell_type": "code",
   "execution_count": 38,
   "metadata": {},
   "outputs": [],
   "source": [
    "pred_dir = glob.glob('/homebackup/dataset/2011_09_30/downloads/images-20210610T200228Z-001/test/predicted/*.png')\n",
    "mask_dir = glob.glob('/homebackup/dataset/2011_09_30/downloads/images-20210610T200228Z-001/test/mask/*.png')"
   ]
  },
  {
   "cell_type": "code",
   "execution_count": 51,
   "metadata": {},
   "outputs": [],
   "source": [
    "pred = order_image_files('/homebackup/dataset/2011_09_30/downloads/images-20210610T200228Z-001/test/predicted/')"
   ]
  },
  {
   "cell_type": "code",
   "execution_count": 53,
   "metadata": {},
   "outputs": [],
   "source": [
    "mask_dir =  order_image_files('/homebackup/dataset/2011_09_30/downloads/images-20210610T200228Z-001/test/mask/')"
   ]
  },
  {
   "cell_type": "code",
   "execution_count": 57,
   "metadata": {},
   "outputs": [],
   "source": [
    "def iou_calc(target,prediction):\n",
    "    target[target>0]=1\n",
    "    prediction[prediction>0]=1\n",
    "    intersection = np.logical_and(target, prediction)\n",
    "    union = np.logical_or(target, prediction)\n",
    "    iou_score = np.sum(intersection) / np.sum(union)\n",
    "    return iou_score"
   ]
  },
  {
   "cell_type": "code",
   "execution_count": 42,
   "metadata": {},
   "outputs": [],
   "source": [
    "prediction = Image.open(pred_dir[0]).convert('RGB')\n",
    "mask = Image.open(mask_dir[0]).convert('RGB')"
   ]
  },
  {
   "cell_type": "code",
   "execution_count": 39,
   "metadata": {},
   "outputs": [],
   "source": [
    "trans = transforms.ToTensor()"
   ]
  },
  {
   "cell_type": "code",
   "execution_count": 58,
   "metadata": {},
   "outputs": [],
   "source": [
    "pred_name = pred[i].split('_motion.png')"
   ]
  },
  {
   "cell_type": "code",
   "execution_count": 61,
   "metadata": {},
   "outputs": [
    {
     "data": {
      "text/plain": [
       "'2011_09_26_drive_0005_sync_0000000002.png'"
      ]
     },
     "execution_count": 61,
     "metadata": {},
     "output_type": "execute_result"
    }
   ],
   "source": [
    "pred_name[0]+'.png'"
   ]
  },
  {
   "cell_type": "code",
   "execution_count": 65,
   "metadata": {},
   "outputs": [
    {
     "name": "stderr",
     "output_type": "stream",
     "text": [
      "/home/prakash/anaconda3/envs/dl/lib/python3.6/site-packages/ipykernel_launcher.py:6: RuntimeWarning: invalid value encountered in long_scalars\n",
      "  \n"
     ]
    },
    {
     "name": "stdout",
     "output_type": "stream",
     "text": [
      "IOU loss: 0.35942028985507246 for IOU threshold of: 0.5\n"
     ]
    }
   ],
   "source": [
    "iou_threshold = 0.5 # enter the threshold for IOU metrics\n",
    "correct_prediction = 0\n",
    "total_prediction = 0\n",
    "\n",
    "for i in range(len(pred)):\n",
    "    prediction = Image.open('/homebackup/dataset/2011_09_30/downloads/images-20210610T200228Z-001/test/predicted/'+pred[i]).convert('RGB')\n",
    "    pred_name = pred[i].split('_motion.png')\n",
    "    mask = Image.open('/homebackup/dataset/2011_09_30/downloads/images-20210610T200228Z-001/test/mask/'+pred_name[0]+'.png').convert('RGB')\n",
    "    prediction = np.array(prediction)\n",
    "    mask = np.array(mask)\n",
    "\n",
    "    loss_raw = (iou_calc(mask,prediction))\n",
    "    \n",
    "    total_prediction = total_prediction + 1\n",
    "    if loss_raw > iou_threshold:\n",
    "      correct_prediction = correct_prediction + 1\n",
    "\n",
    "print(\"IOU loss: \" + str(correct_prediction/total_prediction) +str(\" for IOU threshold of: \") + str(iou_threshold))"
   ]
  }
 ],
 "metadata": {
  "kernelspec": {
   "display_name": "Python 3",
   "language": "python",
   "name": "python3"
  },
  "language_info": {
   "codemirror_mode": {
    "name": "ipython",
    "version": 3
   },
   "file_extension": ".py",
   "mimetype": "text/x-python",
   "name": "python",
   "nbconvert_exporter": "python",
   "pygments_lexer": "ipython3",
   "version": "3.6.12"
  }
 },
 "nbformat": 4,
 "nbformat_minor": 4
}
