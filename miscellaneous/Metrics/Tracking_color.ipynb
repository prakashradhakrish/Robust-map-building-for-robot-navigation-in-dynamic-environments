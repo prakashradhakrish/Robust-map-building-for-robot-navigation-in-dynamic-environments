{
 "cells": [
  {
   "cell_type": "markdown",
   "metadata": {},
   "source": [
    "## Qualitative tracking comparison\n",
    "#### Author: Prakash Radhakrishnan"
   ]
  },
  {
   "cell_type": "code",
   "execution_count": 1,
   "metadata": {},
   "outputs": [],
   "source": [
    "import numpy as np\n",
    "import cv2\n",
    "import matplotlib.pyplot as plt\n",
    "from matplotlib.patches import Rectangle, Circle\n",
    "import os\n",
    "import glob\n",
    "import re"
   ]
  },
  {
   "cell_type": "code",
   "execution_count": 2,
   "metadata": {},
   "outputs": [],
   "source": [
    "def order_image_files(directory):\n",
    "    os.chdir(directory)\n",
    "    images_directory = glob.glob(\"*.png\") # user input of corresponding file\n",
    "    images_directory.sort()\n",
    "    return images_directory"
   ]
  },
  {
   "cell_type": "markdown",
   "metadata": {},
   "source": [
    "### Visualisation of tracking with different color"
   ]
  },
  {
   "cell_type": "code",
   "execution_count": 8,
   "metadata": {},
   "outputs": [],
   "source": [
    "input_directory = \"/homebackup/dataset/2011_09_30/Kitti/Thesis_evaluation/sample/images/\"\n",
    "images = order_image_files(input_directory)"
   ]
  },
  {
   "cell_type": "code",
   "execution_count": 4,
   "metadata": {},
   "outputs": [],
   "source": [
    "COLORS = np.random.uniform(0, 255, size=(1000, 3))"
   ]
  },
  {
   "cell_type": "code",
   "execution_count": 14,
   "metadata": {},
   "outputs": [],
   "source": [
    "COLORS = np.random.uniform(0, 255, size=(1000, 3))\n",
    "COLORS[155][0] = 0\n",
    "COLORS[155][1] = 0\n",
    "COLORS[155][2] = 255\n",
    "COLORS[55][0] = 0\n",
    "COLORS[55][1] = 255\n",
    "COLORS[55][2] = 0\n",
    "alpha = 1\n",
    "beta = 0.9# transparency for the segmentation map\n",
    "gamma = 0 # scalar added to each sum\n",
    "for img_id,singleimage_dir in enumerate(images):\n",
    "    path = os.path.join(input_directory,singleimage_dir)\n",
    "    st = re.findall('(.+)_motion.png', singleimage_dir)\n",
    "    st_image  = \"/homebackup/dataset/2011_09_30/Kitti/Thesis_evaluation/07/image_3/\"+st[0]+str('.png')\n",
    "    img1 = cv2.imread(path)\n",
    "    image1=cv2.imread(st_image)\n",
    "    for i in np.unique(img1):\n",
    "        if i == 0:\n",
    "            continue\n",
    "        red_map = (np.ones_like(img1[:,:,0]).astype(np.uint8))*0\n",
    "        green_map = (np.ones_like(img1[:,:,0]).astype(np.uint8))*0\n",
    "        blue_map = (np.ones_like(img1[:,:,0]).astype(np.uint8))*0\n",
    "        # apply a randon color mask to each object\n",
    "        color = COLORS[i]\n",
    "        #print(i,color)\n",
    "        red_map[img1[:,:,0] == i], green_map[img1[:,:,1] == i], blue_map[img1[:,:,2] == i]  = color\n",
    "        # combine all the masks into a single image\n",
    "        segmentation_map = np.stack([red_map, green_map, blue_map], axis=2)\n",
    "        #convert the original PIL image into NumPy format\n",
    "        image1 = np.array(image1)\n",
    "        # apply mask on the image\n",
    "        cv2.addWeighted(image1, alpha, segmentation_map, beta, gamma, image1)\n",
    "        st = re.findall('(.+)_motion.png', singleimage_dir)\n",
    "        st_mask  = \"/homebackup/dataset/2011_09_30/Kitti/Thesis_evaluation/sample/masks/\"+st[0]+str('_color.png')\n",
    "        cv2.imwrite(st_mask,image1)"
   ]
  },
  {
   "cell_type": "markdown",
   "metadata": {},
   "source": [
    "## Draft"
   ]
  },
  {
   "cell_type": "code",
   "execution_count": 15,
   "metadata": {},
   "outputs": [],
   "source": [
    "from cv2 import VideoWriter, VideoWriter_fourcc"
   ]
  },
  {
   "cell_type": "code",
   "execution_count": 16,
   "metadata": {},
   "outputs": [],
   "source": [
    "input_directory = \"/homebackup/dataset/2011_09_30/Kitti/Thesis_evaluation/sample/masks/\"\n",
    "images = order_image_files(input_directory)"
   ]
  },
  {
   "cell_type": "code",
   "execution_count": 17,
   "metadata": {},
   "outputs": [],
   "source": [
    "width = 1226\n",
    "height = 370\n",
    "FPS = 20\n",
    "seconds = 10\n",
    "\n",
    "fourcc = VideoWriter_fourcc(*'MP42')\n",
    "video = VideoWriter('/homebackup/dataset/2011_09_30/Kitti/Thesis_evaluation/sample/motion.avi', fourcc, float(FPS), (width, height))\n",
    "\n",
    "for img_id,singleimage_dir in enumerate(images):\n",
    "    path = os.path.join(input_directory,singleimage_dir)\n",
    "    img1 = cv2.imread(path)\n",
    "    video.write(img1)\n",
    "video.release()"
   ]
  }
 ],
 "metadata": {
  "kernelspec": {
   "display_name": "Python 3",
   "language": "python",
   "name": "python3"
  },
  "language_info": {
   "codemirror_mode": {
    "name": "ipython",
    "version": 3
   },
   "file_extension": ".py",
   "mimetype": "text/x-python",
   "name": "python",
   "nbconvert_exporter": "python",
   "pygments_lexer": "ipython3",
   "version": "3.6.12"
  }
 },
 "nbformat": 4,
 "nbformat_minor": 4
}
